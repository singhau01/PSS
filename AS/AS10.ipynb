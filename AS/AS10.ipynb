{
 "cells": [
  {
   "cell_type": "markdown",
   "id": "c0de9f49",
   "metadata": {},
   "source": [
    "# Detecting hot posts by classification\n",
    "\n",
    "1. 目的：我們收到社群輿論資料共一萬多筆貼文（posts），想要從裡面建立一個分類模型來偵測什麼樣的貼文會「爆」（假設某則post有超過100則回文（comments），以PTT的語彙來說，就是爆了）。\n",
    "2. 依變項（Dependent）：依變項為每則posts的回文數，把100則回文以上的文章視為1，把少於100則回文的視為0（切勿不可將回文數當成自變項，如果這麼做就會被扣很多分數）。但你也可以嘗試以不一樣的方式去切割，但要注意盡可能保持1/0兩個分類貼文數的平衡。\n",
    "3. 自變項（Independent）：至少要以貼文內容作為自變項，但可以用貼文標題、貼文作者、貼文時間來訓練。除此之外，我們還提供了前10則回文，說不定影響一則貼文會不會爆的主要因素是前十則回文。你可以自己決定要不要把回文丟下去當自變項。本作業的要求只有要求要用貼文當自變項。\n",
    "4. 參考版本：助教用simpletransformer寫了個[版本](https://colab.research.google.com/drive/1YQZNlzH_mo7_Q3XU8X2sIpkhrQZWVYar?usp=sharing)給各位參考，但作為示範助教僅使用了貼文內容作為特徵來訓練模型、也使用了較少的資料集（在時間上做了點切割）。你可以使用全部的貼文來預測，或者可以嘗試加入每則貼文的前10則回文來預測。\n"
   ]
  },
  {
   "cell_type": "markdown",
   "id": "60a0df87",
   "metadata": {},
   "source": [
    "# 讀取資料\n",
    "1. 貼文資料https://github.com/p4css/PSS/blob/master/data/ptt_post.pickle\n",
    "2. 回文資料https://github.com/p4css/PSS/blob/master/data/ptt_comment10.pickle \n",
    "貼文與相對應的回文資料均以plink作為key，可以用pandas的merge將兩個資料集給連結起來做訓練。但要怎麼把前十則的回文化為貼文特徵，要想想。"
   ]
  },
  {
   "cell_type": "code",
   "execution_count": null,
   "id": "15d573b2",
   "metadata": {},
   "outputs": [],
   "source": []
  },
  {
   "cell_type": "markdown",
   "id": "69d30d5c",
   "metadata": {},
   "source": [
    "# 切割資料集"
   ]
  },
  {
   "cell_type": "code",
   "execution_count": null,
   "id": "468fafb3",
   "metadata": {},
   "outputs": [],
   "source": []
  },
  {
   "cell_type": "markdown",
   "id": "fde61c6b",
   "metadata": {},
   "source": [
    "# 訓練模型"
   ]
  },
  {
   "cell_type": "code",
   "execution_count": null,
   "id": "36209f0b",
   "metadata": {},
   "outputs": [],
   "source": []
  },
  {
   "cell_type": "markdown",
   "id": "d059f1bf",
   "metadata": {},
   "source": [
    "# 預測結果\n",
    "預測結果應包含`classification_report`並應用`from mlxtend.plotting import plot_confusion_matrix`繪製confision_matrix的視覺化結果。"
   ]
  },
  {
   "cell_type": "code",
   "execution_count": null,
   "id": "f5475fe2",
   "metadata": {},
   "outputs": [],
   "source": []
  },
  {
   "cell_type": "markdown",
   "id": "40528918",
   "metadata": {},
   "source": [
    "# 分析預測結果\n",
    "Q1. 你把什麼樣的特徵丟進去當自變項（最基本要有貼文，但你還可以丟貼文的發文者、時間、標題、前十則回文內容、回文作者）？\n",
    "> ANSWER HERE\n",
    "\n",
    "Q2. 你認為這個模型的分類能力好嗎？請說明模型訓練結果。\n",
    "> ANSWER HERE\n",
    "\n",
    "Q3. 你認為ptt貼文內容適合拿來做訓練資料嗎？為什麼？\n",
    "> ANSWER HERE\n",
    "\n",
    "Q4. 若加入其他參考特徵後，模型有什麼樣的改變呢（如果你沒做的話就不用回答）？\n",
    "> ANSWER HERE\n",
    "\n",
    "Q5. 如果你在Daily Scrum上要回報這個任務，請用100字以上、200字以內精簡且精準地回報模型訓練結果。\n",
    "> ANSWER HERE"
   ]
  }
 ],
 "metadata": {
  "kernelspec": {
   "display_name": "Python 3",
   "language": "python",
   "name": "python3"
  },
  "language_info": {
   "codemirror_mode": {
    "name": "ipython",
    "version": 3
   },
   "file_extension": ".py",
   "mimetype": "text/x-python",
   "name": "python",
   "nbconvert_exporter": "python",
   "pygments_lexer": "ipython3",
   "version": "3.7.6"
  }
 },
 "nbformat": 4,
 "nbformat_minor": 5
}
