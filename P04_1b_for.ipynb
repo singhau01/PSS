{
 "cells": [
  {
   "cell_type": "markdown",
   "metadata": {
    "id": "mBJXlq5Wrw1M"
   },
   "source": [
    "<a href=\"https://colab.research.google.com/github/P4CSS/PSS/blob/master/P04_1b_for.ipynb\" target=\"_parent\"><img src=\"https://colab.research.google.com/assets/colab-badge.svg\" alt=\"Open In Colab\"/></a>\n",
    "\n",
    "# INDEX\n",
    "---\n",
    "**for-loop: Review**\n",
    "- Print out elements iteratively\n",
    "- Sum up all values in a list\n",
    "- Assign values into equal length brackets\n",
    "- (More) Plotting\n",
    "- (More) Plotting\n",
    "\n",
    "**for-loop: More applications**\n",
    "- Application: generating fibonnacci sequence\n",
    "- Application: Generating Pi\n",
    "- Application: 9x9 table\n"
   ]
  },
  {
   "cell_type": "markdown",
   "metadata": {},
   "source": [
    "# Review"
   ]
  },
  {
   "cell_type": "code",
   "execution_count": 1,
   "metadata": {},
   "outputs": [
    {
     "name": "stdout",
     "output_type": "stream",
     "text": [
      "{'apple': 4, 'banana': 3, 'grape': 1}\n"
     ]
    }
   ],
   "source": [
    "# Counting\n",
    "fruit_count = {}\n",
    "fruit_list = ['apple', 'apple', 'banana', 'apple', 'banana', 'grape', 'banana', 'apple']\n",
    "\n",
    "for fruit in fruit_list:\n",
    "   if fruit not in fruit_count:\n",
    "       fruit_count[fruit] = 1\n",
    "   else:\n",
    "       fruit_count[fruit] = fruit_count[fruit] + 1\n",
    "\n",
    "print(fruit_count)"
   ]
  },
  {
   "cell_type": "markdown",
   "metadata": {
    "id": "aL_dDaLCOHbD"
   },
   "source": [
    "# For-loop\n",
    "無論是在列數「水果」或者把所有腳踏車站的資訊列印出來，都需要用到一個指令__For__。他會讓程式在指定的範圍內重複執行，所以也經常被稱為__for-each__。"
   ]
  },
  {
   "cell_type": "markdown",
   "metadata": {
    "id": "qdvcUH4R52_r"
   },
   "source": [
    "## Print out elements in a list"
   ]
  },
  {
   "cell_type": "code",
   "execution_count": 2,
   "metadata": {
    "colab": {
     "base_uri": "https://localhost:8080/"
    },
    "executionInfo": {
     "elapsed": 573,
     "status": "ok",
     "timestamp": 1615702222969,
     "user": {
      "displayName": "JILUNG",
      "photoUrl": "https://lh3.googleusercontent.com/a-/AOh14Gg6zj7prBu9I41dXrwQwaD6D0pMAipXePNpoU-MZ30=s64",
      "userId": "08765716966079614016"
     },
     "user_tz": -480
    },
    "id": "MLHkVuTRWaRN",
    "outputId": "5e894646-037c-4f72-e1d4-9580c7d65d95"
   },
   "outputs": [
    {
     "name": "stdout",
     "output_type": "stream",
     "text": [
      "I love apple\n",
      "I love banana\n",
      "I love cherry\n",
      "I love Durian\n"
     ]
    }
   ],
   "source": [
    "for fruit in ['apple', 'banana', 'cherry', 'Durian']:\n",
    "    print(\"I love\", fruit)"
   ]
  },
  {
   "cell_type": "markdown",
   "metadata": {},
   "source": [
    "## Looping in a string"
   ]
  },
  {
   "cell_type": "code",
   "execution_count": 3,
   "metadata": {},
   "outputs": [
    {
     "name": "stdout",
     "output_type": "stream",
     "text": [
      "b\n",
      "a\n",
      "n\n",
      "a\n",
      "n\n",
      "a\n"
     ]
    }
   ],
   "source": [
    "for x in \"banana\":\n",
    "  print(x)"
   ]
  },
  {
   "cell_type": "markdown",
   "metadata": {},
   "source": [
    "## break & continue\n",
    "在for-loop執行過程中，有時候會希望在某些條件成立時，就直接終止並跳出整個for-loop，或者，迴圈內以下的內容就不要執行，直接執行下一個iteration。包含以下兩種指令：\n",
    "- `continue`: 當條件成立，下方的迴圈內容就不再執行，直接進入下一個iteration。\n",
    "- `break`：當條件成立，就終止整個回圈，跳出回圈的執行。"
   ]
  },
  {
   "cell_type": "code",
   "execution_count": 8,
   "metadata": {},
   "outputs": [
    {
     "name": "stdout",
     "output_type": "stream",
     "text": [
      "carlos\n",
      "ellen\n"
     ]
    }
   ],
   "source": [
    "grades = {'albert': 33, 'bob': 44, 'carlos': 100, 'david': 90, 'ellen': 100}\n",
    "for g in grades:\n",
    "    if grades[g] >=100:\n",
    "        print(g)"
   ]
  },
  {
   "cell_type": "markdown",
   "metadata": {},
   "source": [
    "在下面的例子中，若讀到小於100的數值，就直接進入下一個iteration，就不會執行到`print(g)`"
   ]
  },
  {
   "cell_type": "code",
   "execution_count": 7,
   "metadata": {},
   "outputs": [
    {
     "name": "stdout",
     "output_type": "stream",
     "text": [
      "carlos\n",
      "ellen\n"
     ]
    }
   ],
   "source": [
    "grades = {'albert': 33, 'bob': 44, 'carlos': 100, 'david': 90, 'ellen': 100}\n",
    "for g in grades:\n",
    "    if grades[g] < 100:\n",
    "        continue\n",
    "    print(g)"
   ]
  },
  {
   "cell_type": "markdown",
   "metadata": {},
   "source": [
    "在下面的例子中，若讀到大於等於100的數值，break會使得整個for-loop終止。通常用於找到一序列的資料中，有沒有包含某個合乎條件的情形，有的話便跳出。"
   ]
  },
  {
   "cell_type": "code",
   "execution_count": 10,
   "metadata": {},
   "outputs": [
    {
     "name": "stdout",
     "output_type": "stream",
     "text": [
      "carlos\n"
     ]
    }
   ],
   "source": [
    "grades = {'albert': 33, 'bob': 44, 'carlos': 100, 'david': 90, 'ellen': 100}\n",
    "for g in grades:\n",
    "    if grades[g] >= 100:\n",
    "        print(g)\n",
    "        break"
   ]
  },
  {
   "cell_type": "code",
   "execution_count": null,
   "metadata": {
    "colab": {
     "base_uri": "https://localhost:8080/"
    },
    "executionInfo": {
     "elapsed": 785,
     "status": "ok",
     "timestamp": 1615776638914,
     "user": {
      "displayName": "JILUNG",
      "photoUrl": "https://lh3.googleusercontent.com/a-/AOh14Gg6zj7prBu9I41dXrwQwaD6D0pMAipXePNpoU-MZ30=s64",
      "userId": "08765716966079614016"
     },
     "user_tz": -480
    },
    "id": "SiSIW_nyXNF3",
    "outputId": "c009aa6e-981e-46ec-91b2-9cbc470e4f07"
   },
   "outputs": [
    {
     "name": "stdout",
     "output_type": "stream",
     "text": [
      "dict_items([('apple', 4), ('banana', 3), ('grape', 1)])\n",
      "apple \t 4\n",
      "banana \t 3\n",
      "grape \t 1\n",
      "apple \t 4\n",
      "banana \t 3\n",
      "grape \t 1\n"
     ]
    }
   ],
   "source": [
    "fruit_count = {'apple': 4, 'banana': 3, 'grape': 1}\n",
    "print(fruit_count.items())\n",
    "\n",
    "for k, v in fruit_count.items():    # k, v is a tuble containing a pair of variables, equals to (k, v)\n",
    "    print(k, '\\t', v)\n",
    "\n",
    "for (k, v) in fruit_count.items():\n",
    "    print(k, '\\t', v)\n"
   ]
  },
  {
   "cell_type": "markdown",
   "metadata": {},
   "source": [
    "## range() function"
   ]
  },
  {
   "cell_type": "code",
   "execution_count": 11,
   "metadata": {},
   "outputs": [
    {
     "name": "stdout",
     "output_type": "stream",
     "text": [
      "0\n",
      "1\n",
      "2\n",
      "3\n",
      "4\n",
      "5\n"
     ]
    }
   ],
   "source": [
    "for x in range(6):\n",
    "  print(x)"
   ]
  },
  {
   "cell_type": "code",
   "execution_count": 12,
   "metadata": {},
   "outputs": [
    {
     "name": "stdout",
     "output_type": "stream",
     "text": [
      "2\n",
      "3\n",
      "4\n",
      "5\n"
     ]
    }
   ],
   "source": [
    "for x in range(2, 6):\n",
    "  print(x)"
   ]
  },
  {
   "cell_type": "code",
   "execution_count": 13,
   "metadata": {},
   "outputs": [
    {
     "name": "stdout",
     "output_type": "stream",
     "text": [
      "2\n",
      "5\n",
      "8\n",
      "11\n",
      "14\n",
      "17\n",
      "20\n",
      "23\n",
      "26\n",
      "29\n"
     ]
    }
   ],
   "source": [
    "for x in range(2, 30, 3):\n",
    "  print(x)"
   ]
  },
  {
   "cell_type": "markdown",
   "metadata": {},
   "source": [
    "# Applications"
   ]
  },
  {
   "cell_type": "markdown",
   "metadata": {
    "id": "AdroCHRmOHbD"
   },
   "source": [
    "## (Application) Sum up all values in a list"
   ]
  },
  {
   "cell_type": "code",
   "execution_count": 15,
   "metadata": {},
   "outputs": [
    {
     "data": {
      "text/plain": [
       "55"
      ]
     },
     "execution_count": 15,
     "metadata": {},
     "output_type": "execute_result"
    }
   ],
   "source": [
    "alist = [1, 2, 3, 4, 5, 6, 7, 8, 9, 10]\n",
    "sum(alist)"
   ]
  },
  {
   "cell_type": "code",
   "execution_count": 2,
   "metadata": {},
   "outputs": [
    {
     "name": "stdout",
     "output_type": "stream",
     "text": [
      "55\n"
     ]
    }
   ],
   "source": [
    "alist = [1, 2, 3, 4, 5, 6, 7, 8, 9, 10]\n",
    "\n",
    "# YOUR CODE HERE\n",
    "sum_a = sum(alist)\n",
    "\n",
    "print(sum_a)"
   ]
  },
  {
   "cell_type": "code",
   "execution_count": 5,
   "metadata": {},
   "outputs": [
    {
     "name": "stdout",
     "output_type": "stream",
     "text": [
      "367\n"
     ]
    }
   ],
   "source": [
    "grades = {'albert': 33, 'bob': 44, 'carlos': 100, 'david': 90, 'ellen': 100}\n",
    "\n",
    "grade_sum = 0\n",
    "# YOUR CODE HERE\n",
    "for k, v in grades.items():\n",
    "    grade_sum += grades[k] \n",
    "\n",
    "print(grade_sum)"
   ]
  },
  {
   "cell_type": "markdown",
   "metadata": {},
   "source": [
    "### (Example) Sum up the number of ubike\n",
    "計算讀到的資料中，目前共有多少個ubike停駐位、又有多少ubike目前正停駐在車格上"
   ]
  },
  {
   "cell_type": "code",
   "execution_count": 8,
   "metadata": {
    "colab": {
     "base_uri": "https://localhost:8080/"
    },
    "executionInfo": {
     "elapsed": 3096,
     "status": "ok",
     "timestamp": 1615776850966,
     "user": {
      "displayName": "JILUNG",
      "photoUrl": "https://lh3.googleusercontent.com/a-/AOh14Gg6zj7prBu9I41dXrwQwaD6D0pMAipXePNpoU-MZ30=s64",
      "userId": "08765716966079614016"
     },
     "user_tz": -480
    },
    "id": "gCmRuZyq39IX",
    "outputId": "248d92ef-7f74-469d-c5d3-f00d81a7310b"
   },
   "outputs": [
    {
     "name": "stdout",
     "output_type": "stream",
     "text": [
      "<class 'requests.models.Response'>\n",
      "<class 'str'>\n"
     ]
    }
   ],
   "source": [
    "import requests\n",
    "import json\n",
    "response = requests.get('https://tcgbusfs.blob.core.windows.net/blobyoubike/YouBikeTP.gz')\n",
    "print(type(response)) # <class 'requests.models.Response'>\n",
    "print(type(response.text)) # <class 'str'>\n",
    "bike_data = json.loads(response.text)"
   ]
  },
  {
   "cell_type": "code",
   "execution_count": 16,
   "metadata": {
    "colab": {
     "base_uri": "https://localhost:8080/"
    },
    "executionInfo": {
     "elapsed": 649,
     "status": "ok",
     "timestamp": 1615776943947,
     "user": {
      "displayName": "JILUNG",
      "photoUrl": "https://lh3.googleusercontent.com/a-/AOh14Gg6zj7prBu9I41dXrwQwaD6D0pMAipXePNpoU-MZ30=s64",
      "userId": "08765716966079614016"
     },
     "user_tz": -480
    },
    "id": "F2lE-yA1zo_D",
    "outputId": "f91fdd52-700e-4884-fc3c-f78cf245cb0f"
   },
   "outputs": [
    {
     "data": {
      "text/plain": [
       "dict_keys(['0001', '0002', '0003', '0004', '0005', '0006', '0007', '0008', '0009', '0010', '0011', '0012', '0013', '0014', '0016', '0017', '0018', '0019', '0021', '0022', '0023', '0024', '0025', '0026', '0027', '0028', '0029', '0030', '0031', '0032', '0033', '0034', '0035', '0036', '0037', '0038', '0039', '0040', '0041', '0042', '0043', '0044', '0045', '0046', '0047', '0048', '0049', '0050', '0051', '0052', '0053', '0054', '0055', '0056', '0057', '0058', '0059', '0060', '0061', '0062', '0063', '0064', '0065', '0066', '0067', '0068', '0069', '0070', '0071', '0072', '0073', '0074', '0075', '0076', '0077', '0078', '0079', '0080', '0081', '0082', '0083', '0084', '0085', '0086', '0087', '0088', '0089', '0090', '0091', '0092', '0093', '0094', '0095', '0096', '0097', '0098', '0099', '0100', '0101', '0102', '0103', '0104', '0105', '0106', '0107', '0108', '0109', '0110', '0111', '0112', '0113', '0114', '0115', '0116', '0117', '0118', '0119', '0120', '0121', '0122', '0123', '0124', '0125', '0126', '0127', '0128', '0129', '0130', '0131', '0132', '0133', '0134', '0135', '0136', '0137', '0138', '0139', '0140', '0141', '0142', '0143', '0144', '0145', '0146', '0147', '0148', '0149', '0150', '0151', '0152', '0153', '0154', '0155', '0156', '0157', '0158', '0159', '0161', '0162', '0163', '0164', '0165', '0166', '0167', '0168', '0169', '0170', '0171', '0172', '0173', '0174', '0175', '0176', '0177', '0178', '0179', '0180', '0181', '0182', '0183', '0184', '0185', '0186', '0187', '0188', '0189', '0190', '0191', '0192', '0193', '0194', '0195', '0196', '0197', '0201', '0202', '0203', '0204', '0205', '0206', '0207', '0208', '0209', '0210', '0211', '0212', '0213', '0214', '0215', '0216', '0217', '0218', '0219', '0220', '0221', '0222', '0223', '0224', '0225', '0226', '0227', '0228', '0229', '0230', '0231', '0232', '0233', '0234', '0235', '0236', '0237', '0238', '0239', '0240', '0241', '0242', '0243', '0244', '0245', '0246', '0247', '0248', '0249', '0250', '0251', '0252', '0253', '0254', '0255', '0256', '0257', '0258', '0259', '0260', '0261', '0262', '0263', '0264', '0265', '0266', '0267', '0268', '0269', '0270', '0271', '0272', '0273', '0274', '0275', '0276', '0277', '0278', '0279', '0280', '0281', '0282', '0283', '0284', '0285', '0286', '0287', '0288', '0289', '0290', '0291', '0292', '0293', '0294', '0295', '0296', '0297', '0298', '0299', '0300', '0301', '0302', '0303', '0304', '0305', '0306', '0307', '0308', '0309', '0310', '0311', '0312', '0313', '0314', '0315', '0316', '0317', '0318', '0319', '0320', '0321', '0322', '0323', '0324', '0325', '0326', '0327', '0328', '0329', '0330', '0331', '0332', '0333', '0334', '0335', '0336', '0337', '0338', '0339', '0340', '0341', '0342', '0343', '0344', '0345', '0346', '0347', '0348', '0349', '0350', '0351', '0352', '0353', '0354', '0355', '0356', '0357', '0358', '0359', '0360', '0361', '0362', '0363', '0364', '0365', '0366', '0367', '0368', '0369', '0370', '0371', '0372', '0373', '0374', '0375', '0376', '0377', '0378', '0379', '0380', '0381', '0382', '0383', '0384', '0385', '0386', '0387', '0388', '0389', '0390', '0391', '0392', '0393', '0394', '0395', '0396', '0397', '0398', '0399', '0400', '0401', '0402', '0403', '0404', '0405'])"
      ]
     },
     "execution_count": 16,
     "metadata": {},
     "output_type": "execute_result"
    }
   ],
   "source": [
    "type(bike_data['retVal'])\n",
    "bike_data['retVal'].keys()"
   ]
  },
  {
   "cell_type": "code",
   "execution_count": 19,
   "metadata": {
    "colab": {
     "base_uri": "https://localhost:8080/"
    },
    "executionInfo": {
     "elapsed": 622,
     "status": "ok",
     "timestamp": 1615778080805,
     "user": {
      "displayName": "JILUNG",
      "photoUrl": "https://lh3.googleusercontent.com/a-/AOh14Gg6zj7prBu9I41dXrwQwaD6D0pMAipXePNpoU-MZ30=s64",
      "userId": "08765716966079614016"
     },
     "user_tz": -480
    },
    "id": "08H9_EMYOHbD",
    "outputId": "2c6c4b52-7301-41fb-9932-5905f8a48752",
    "tags": []
   },
   "outputs": [
    {
     "name": "stdout",
     "output_type": "stream",
     "text": [
      "4995 14634\n"
     ]
    }
   ],
   "source": [
    "# accmulate all sbi\n",
    "sbi_sum = 0\n",
    "tot_sum = 0\n",
    "\n",
    "# CODE HERE\n",
    "for k, v in bike_data['retVal'].items():\n",
    "    sbi_sum += int(bike_data['retVal'][k]['sbi'])\n",
    "    tot_sum += int(bike_data[\"retVal\"][k][\"tot\"])\n",
    "\n",
    "print(sbi_sum, tot_sum)"
   ]
  },
  {
   "cell_type": "markdown",
   "metadata": {
    "id": "gBoIqDJ3OHbE"
   },
   "source": [
    "## (Application) Assign values into equal length brackets\n",
    "\n",
    "之前在做Counting時，每個項目是離散的，但今天我如果要把成績的百分制等分均分至數個區間後（0-10, 10-20, ..., 90-100, 100），分別計算每個區間有多少人要怎麼做？\n"
   ]
  },
  {
   "cell_type": "markdown",
   "metadata": {
    "id": "xF_7z8Icnk-r"
   },
   "source": [
    "### Plotting by `hist()`"
   ]
  },
  {
   "cell_type": "code",
   "execution_count": null,
   "metadata": {
    "ExecuteTime": {
     "end_time": "2020-03-23T03:10:20.628510Z",
     "start_time": "2020-03-23T03:10:17.652229Z"
    },
    "colab": {
     "base_uri": "https://localhost:8080/",
     "height": 317
    },
    "executionInfo": {
     "elapsed": 628,
     "status": "ok",
     "timestamp": 1615778341163,
     "user": {
      "displayName": "JILUNG",
      "photoUrl": "https://lh3.googleusercontent.com/a-/AOh14Gg6zj7prBu9I41dXrwQwaD6D0pMAipXePNpoU-MZ30=s64",
      "userId": "08765716966079614016"
     },
     "user_tz": -480
    },
    "id": "wCyVC0BJOHbE",
    "outputId": "7a40e7c3-5ebd-4d2b-927f-906800709a85"
   },
   "outputs": [
    {
     "data": {
      "text/plain": [
       "(array([9., 7., 3., 8., 5., 3., 7., 4., 8., 6.]),\n",
       " array([ 0. ,  9.9, 19.8, 29.7, 39.6, 49.5, 59.4, 69.3, 79.2, 89.1, 99. ]),\n",
       " <a list of 10 Patch objects>)"
      ]
     },
     "execution_count": 39,
     "metadata": {
      "tags": []
     },
     "output_type": "execute_result"
    },
    {
     "data": {
      "image/png": "[encoded data removed]",
      "text/plain": [
       "<Figure size 432x288 with 1 Axes>"
      ]
     },
     "metadata": {
      "needs_background": "light",
      "tags": []
     },
     "output_type": "display_data"
    }
   ],
   "source": [
    "grades = [17, 65, 5, 74, 93, 1, 94, 16, 80, 95, 32, 78, 17, 70, 22, 43, 95, 67, 3, 30, 40, 51, 96, 17, 13, 21, 4, 47, 19, 44, 59, 6, 0, 83, 40, 89, 39, 57, 99, 35, 81, 31, 89, 63, 80, 85, 36, 60, 17, 68, 62, 36, 3, 28, 8, 38, 83, 73, 67, 2]\n",
    "\n",
    "%matplotlib inline\n",
    "import matplotlib.pyplot as plt\n",
    "plt.hist(grades, 10, facecolor='green', alpha=0.5)\n"
   ]
  },
  {
   "cell_type": "markdown",
   "metadata": {
    "id": "WUUEkGOunWSs"
   },
   "source": [
    "### Counting then plotting by `bar()`"
   ]
  },
  {
   "cell_type": "code",
   "execution_count": 9,
   "metadata": {
    "ExecuteTime": {
     "end_time": "2020-03-23T03:09:40.737717Z",
     "start_time": "2020-03-23T03:09:40.733199Z"
    },
    "colab": {
     "base_uri": "https://localhost:8080/",
     "height": 334
    },
    "executionInfo": {
     "elapsed": 854,
     "status": "ok",
     "timestamp": 1615778755861,
     "user": {
      "displayName": "JILUNG",
      "photoUrl": "https://lh3.googleusercontent.com/a-/AOh14Gg6zj7prBu9I41dXrwQwaD6D0pMAipXePNpoU-MZ30=s64",
      "userId": "08765716966079614016"
     },
     "user_tz": -480
    },
    "id": "qsFHNEmcOHbE",
    "outputId": "04ce8d69-77e9-4542-affe-26fc19b759df"
   },
   "outputs": [
    {
     "name": "stdout",
     "output_type": "stream",
     "text": [
      "11\n",
      "[0, 10, 20, 30, 40, 50, 60, 70, 80, 90, 100]\n",
      "[0, 0, 0, 0, 0, 0, 6, 3, 0, 2, 1]\n"
     ]
    },
    {
     "data": {
      "text/plain": [
       "<BarContainer object of 11 artists>"
      ]
     },
     "execution_count": 9,
     "metadata": {},
     "output_type": "execute_result"
    },
    {
     "data": {
      "image/png": "[encoded data removed]",
      "text/plain": [
       "<Figure size 432x288 with 1 Axes>"
      ]
     },
     "metadata": {
      "needs_background": "light"
     },
     "output_type": "display_data"
    }
   ],
   "source": [
    "grades = [60, 65, 62, 65, 62, 73, 78, 90, 100, 99, 67, 73]\n",
    "glist = [0, 0, 0, 0, 0, 0, 0, 0, 0, 0, 0]\n",
    "\n",
    "%matplotlib inline\n",
    "import matplotlib.pyplot as plt\n",
    "\n",
    "for g in grades:\n",
    "    glist[int(g/10)] += 1\n",
    "\n",
    "print(list(range(0, 101, 10)))\n",
    "print(glist)\n",
    "\n",
    "plt.bar(list(range(0, 101, 10)), glist, width=10)"
   ]
  },
  {
   "cell_type": "markdown",
   "metadata": {
    "id": "C1ANABHsOHbE"
   },
   "source": [
    "## (Application) Generating fibonnacci sequence\n",
    " 費氏數列第一個為0，第二個為1，第三者之後為前兩項相加，請問第10項是多少？\n",
    " 請嘗試將你的答案列印為以下的模樣\n",
    " ```\n",
    "1 \t 1\n",
    "2 \t 2\n",
    "3 \t 3\n",
    "4 \t 5\n",
    "5 \t 8\n",
    "6 \t 13\n",
    "7 \t 21\n",
    "8 \t 34\n",
    "9 \t 55\n",
    "10 \t 89\n",
    "```"
   ]
  },
  {
   "cell_type": "code",
   "execution_count": 20,
   "metadata": {
    "ExecuteTime": {
     "end_time": "2020-03-23T03:16:50.167139Z",
     "start_time": "2020-03-23T03:16:50.163536Z"
    },
    "id": "WttB7e1NOHbF",
    "outputId": "14b4e4f9-16b2-4358-f231-f29a869b07f2"
   },
   "outputs": [
    {
     "name": "stdout",
     "output_type": "stream",
     "text": [
      "1\n",
      "2\n",
      "3\n",
      "5\n",
      "8\n",
      "13\n",
      "21\n",
      "34\n",
      "55\n",
      "89\n"
     ]
    }
   ],
   "source": [
    "## Generating fibonnacci number sequence\n",
    "# 0, 1, 1, 2, 3, 5, 8, 13, 21, 34, 55, ...\n",
    "a, b = 0, 1\n",
    "for i in range(10):\n",
    "    a , b = b, a + b\n",
    "    print(b)\n",
    "\n",
    "\n"
   ]
  },
  {
   "cell_type": "markdown",
   "metadata": {},
   "source": [
    "## Generating Pi\n",
    "\n",
    "Gregory and Leibniz found Pi/4 = 1 - 1/3 + 1/5 - 1/7 + 1/9...\n",
    "https://mathworld.wolfram.com/PiFormulas.html"
   ]
  },
  {
   "cell_type": "code",
   "execution_count": 23,
   "metadata": {},
   "outputs": [
    {
     "name": "stdout",
     "output_type": "stream",
     "text": [
      "3.1415924535897797\n"
     ]
    }
   ],
   "source": [
    "pi = 0\n",
    "sign = 1\n",
    "\n",
    "for i in range(1, 10000000, 2):\n",
    "    pi += 4 * (1 / i) * sign\n",
    "    sign *= -1\n",
    "\n",
    "\n",
    "print(pi)"
   ]
  },
  {
   "cell_type": "markdown",
   "metadata": {
    "id": "ikntSnetOHbF"
   },
   "source": [
    "## (Option) Print 9x9 tables"
   ]
  },
  {
   "cell_type": "code",
   "execution_count": 36,
   "metadata": {
    "ExecuteTime": {
     "end_time": "2020-03-23T03:15:57.047752Z",
     "start_time": "2020-03-23T03:15:57.042848Z"
    },
    "id": "dzpcUYlGOHbF",
    "outputId": "3ec95898-3041-458f-b44c-c724616b9cd1"
   },
   "outputs": [
    {
     "name": "stdout",
     "output_type": "stream",
     "text": [
      "1*1 = 1 1*2 = 2 1*3 = 3 1*4 = 4 1*5 = 5 1*6 = 6 1*7 = 7 1*8 = 8 1*9 = 9 \n",
      "2*1 = 2 2*2 = 4 2*3 = 6 2*4 = 8 2*5 =10 2*6 =12 2*7 =14 2*8 =16 2*9 =18 \n",
      "3*1 = 3 3*2 = 6 3*3 = 9 3*4 =12 3*5 =15 3*6 =18 3*7 =21 3*8 =24 3*9 =27 \n",
      "4*1 = 4 4*2 = 8 4*3 =12 4*4 =16 4*5 =20 4*6 =24 4*7 =28 4*8 =32 4*9 =36 \n",
      "5*1 = 5 5*2 =10 5*3 =15 5*4 =20 5*5 =25 5*6 =30 5*7 =35 5*8 =40 5*9 =45 \n",
      "6*1 = 6 6*2 =12 6*3 =18 6*4 =24 6*5 =30 6*6 =36 6*7 =42 6*8 =48 6*9 =54 \n",
      "7*1 = 7 7*2 =14 7*3 =21 7*4 =28 7*5 =35 7*6 =42 7*7 =49 7*8 =56 7*9 =63 \n",
      "8*1 = 8 8*2 =16 8*3 =24 8*4 =32 8*5 =40 8*6 =48 8*7 =56 8*8 =64 8*9 =72 \n",
      "9*1 = 9 9*2 =18 9*3 =27 9*4 =36 9*5 =45 9*6 =54 9*7 =63 9*8 =72 9*9 =81 \n"
     ]
    }
   ],
   "source": [
    "for i in range(1,10):\n",
    "    for j in range(1, 10):\n",
    "        print(\"{}*{} ={:-2d}\".format(i, j, i*j), end=' ')\n",
    "    print()\n",
    "\n",
    "\n",
    "\n"
   ]
  }
 ],
 "metadata": {
  "anaconda-cloud": {},
  "colab": {
   "collapsed_sections": [
    "YIULaGwuOHa-"
   ],
   "name": "P04_for_if_else_blank.ipynb",
   "provenance": [],
   "toc_visible": true
  },
  "kernelspec": {
   "display_name": "Python 3",
   "language": "python",
   "name": "python3"
  },
  "language_info": {
   "codemirror_mode": {
    "name": "ipython",
    "version": 3
   },
   "file_extension": ".py",
   "mimetype": "text/x-python",
   "name": "python",
   "nbconvert_exporter": "python",
   "pygments_lexer": "ipython3",
   "version": "3.8.8"
  },
  "metadata": {
   "interpreter": {
    "hash": "31f2aee4e71d21fbe5cf8b01ff0e069b9275f58929596ceb00d14d90e3e16cd6"
   }
  },
  "toc": {
   "base_numbering": 1,
   "nav_menu": {
    "height": "413px",
    "width": "160px"
   },
   "number_sections": true,
   "sideBar": true,
   "skip_h1_title": false,
   "title_cell": "Table of Contents",
   "title_sidebar": "Contents",
   "toc_cell": false,
   "toc_position": {
    "height": "calc(100% - 180px)",
    "left": "10px",
    "top": "150px",
    "width": "295px"
   },
   "toc_section_display": true,
   "toc_window_display": true
  },
  "varInspector": {
   "cols": {
    "lenName": 16,
    "lenType": 16,
    "lenVar": 40
   },
   "kernels_config": {
    "python": {
     "delete_cmd_postfix": "",
     "delete_cmd_prefix": "del ",
     "library": "var_list.py",
     "varRefreshCmd": "print(var_dic_list())"
    },
    "r": {
     "delete_cmd_postfix": ") ",
     "delete_cmd_prefix": "rm(",
     "library": "var_list.r",
     "varRefreshCmd": "cat(var_dic_list()) "
    }
   },
   "types_to_exclude": [
    "module",
    "function",
    "builtin_function_or_method",
    "instance",
    "_Feature"
   ],
   "window_display": false
  }
 },
 "nbformat": 4,
 "nbformat_minor": 4
}
